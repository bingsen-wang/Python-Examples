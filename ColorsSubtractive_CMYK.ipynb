{
  "nbformat": 4,
  "nbformat_minor": 0,
  "metadata": {
    "colab": {
      "provenance": [],
      "include_colab_link": true
    },
    "kernelspec": {
      "name": "python3",
      "display_name": "Python 3"
    }
  },
  "cells": [
    {
      "cell_type": "markdown",
      "metadata": {
        "id": "view-in-github",
        "colab_type": "text"
      },
      "source": [
        "<a href=\"https://colab.research.google.com/github/bingsen-wang/Python-Examples/blob/main/ColorsSubtractive_CMYK.ipynb\" target=\"_parent\"><img src=\"https://colab.research.google.com/assets/colab-badge.svg\" alt=\"Open In Colab\"/></a>"
      ]
    },
    {
      "cell_type": "markdown",
      "metadata": {
        "id": "jAMKoELNpsK-"
      },
      "source": [
        "<center><h1><b>Subtractive Colors CMYK\n",
        "</h1></b>\n",
        "\n",
        "Dr. Bingsen Wang\n",
        "\n",
        "1/6/2024\n",
        "</center>"
      ]
    },
    {
      "cell_type": "markdown",
      "metadata": {
        "id": "Hv0YxDrWU4h8"
      },
      "source": [
        "#Python Code\n",
        "The Python code illustrates the principle of additive colors."
      ]
    },
    {
      "cell_type": "code",
      "execution_count": 18,
      "metadata": {
        "id": "XeGsHYTt8IXU",
        "colab": {
          "base_uri": "https://localhost:8080/",
          "height": 1000
        },
        "outputId": "a66785b6-d7bb-4c03-a18c-78b1c9e3511c"
      },
      "outputs": [
        {
          "output_type": "stream",
          "name": "stdout",
          "text": [
            "i= 0\n",
            "i= 0\n",
            "i= 50\n",
            "i= 100\n",
            "i= 150\n",
            "i= 0\n"
          ]
        },
        {
          "output_type": "display_data",
          "data": {
            "text/plain": [
              "<Figure size 900x900 with 1 Axes>"
            ],
            "image/png": "[encoded data removed]"
          },
          "metadata": {}
        }
      ],
      "source": [
        "from os import linesep\n",
        "import shapely.geometry as sg\n",
        "import numpy as np\n",
        "import matplotlib.pyplot as plt\n",
        "from matplotlib import animation,rc,colors\n",
        "rc('animation', html='jshtml')\n",
        "plt.rcParams.update({\"font.family\" : \"serif\",\"mathtext.fontset\" : \"cm\"})\n",
        "\n",
        "#drawn n colored circles of the same radius r on a circle of radius rc\n",
        "def coloredCicles(ax,r,rc,n):\n",
        "  theta = np.linspace(0,2*np.pi*(n-1)/n,n)\n",
        "  a = np.exp(1j*np.pi*2/3) #120 deg rotation\n",
        "  uc = np.exp(1j*theta) #unit circle\n",
        "  circles = [] #\n",
        "  colors = []\n",
        "  for i in range(len(theta)):\n",
        "    p_r = max(uc[i].real,0) #red projection\n",
        "    p_g = max((uc[i]*a**2).real,0) #green projection\n",
        "    p_b = max((uc[i]*a).real,0) #blue projection\n",
        "    pmax = max([p_r,p_g,p_b])\n",
        "    # ci = [p_r/pmax, p_g/pmax, p_b/pmax] #color for ith circle\n",
        "    ci = [1-p_r, 1-p_g, 1-p_b] #color for ith circle\n",
        "    cl = sg.Point(rc*uc[i].real,rc*uc[i].imag).buffer(r) #circle\n",
        "    ax.fill(cl.exterior.xy[0],cl.exterior.xy[1],fc=ci)\n",
        "    circles.append(cl)\n",
        "    colors.append(ci)\n",
        "  for i in range(len(circles)):\n",
        "    ab = circles[i].intersection(circles[(i+1)%len(circles)])\n",
        "    c_ab = np.array(colors[i])+np.array(colors[(i+1)%len(circles)])+ np.array([-1,-1,-1])\n",
        "    ax.fill(ab.exterior.xy[0],ab.exterior.xy[1],fc=c_ab)\n",
        "    if i==0:\n",
        "      abc = circles[0].intersection(circles[1])\n",
        "      c=np.array(colors[0]) + np.array(colors[1])+np.array([-1,-1,-1])\n",
        "    elif i<len(circles)-1:\n",
        "      abc = abc.intersection(circles[(i+1)])\n",
        "      c = np.array(c) + np.array(colors[(i+1)%len(circles)])+np.array([-1,-1,-1])\n",
        "    # print(c)\n",
        "    ax.fill(abc.exterior.xy[0],abc.exterior.xy[1],fc=c)\n",
        "  return\n",
        "\n",
        "#parameters\n",
        "Nf = 200\n",
        "rs = np.linspace(.1,2.5,Nf)\n",
        "\n",
        "#set up figures\n",
        "fig = plt.figure(figsize=(9,9))\n",
        "ax_frame = [[0, 0, 1, 1], [-1.5,1.5], [-1.5,1.5]]# [pos-boundary, xlim, ylim]\n",
        "xn,xm,yn,ym = ax_frame[1]+ax_frame[2]\n",
        "ax=fig.add_axes(ax_frame[0],xlim=ax_frame[1], ylim=ax_frame[2],fc='none',) #no face color\n",
        "# ax.get_xaxis().set_visible(False)\n",
        "# ax.get_yaxis().set_visible(False)\n",
        "# [ax.spines[spine].set_visible(False) for spine in ['top','bottom','left','right']]\n",
        "ax.axis('off')\n",
        "# animation function. This is called sequentially\n",
        "def animate(i):\n",
        "  if i%50==0:\n",
        "    print('i=',i)\n",
        "  coloredCicles(ax,rs[i],.25*xm,3)\n",
        "  # coloredCicles(ax,3,.25*xm,3)\n",
        "  return\n",
        "# ax.fill(a[0].exterior.xy[0],a[0].exterior.xy[1],color=[1,0,0])\n",
        "# ax.fill(b.exterior.xy[0],b.exterior.xy[1],color=[0,1,0])\n",
        "# ax.fill(c.exterior.xy[0],c.exterior.xy[1],color=[1,1,0])\n",
        "\n",
        "anim = animation.FuncAnimation(fig, animate, frames=Nf, interval=20)\n",
        "# anim #uncomment to generate animation in the output area\n",
        "anim.save(\"ColorsCMYK.mp4\", fps=35, dpi = 120) #uncomment to save\n"
      ]
    }
  ]
}