{
  "nbformat": 4,
  "nbformat_minor": 0,
  "metadata": {
    "colab": {
      "provenance": [],
      "include_colab_link": true
    },
    "kernelspec": {
      "name": "python3",
      "display_name": "Python 3"
    }
  },
  "cells": [
    {
      "cell_type": "markdown",
      "metadata": {
        "id": "view-in-github",
        "colab_type": "text"
      },
      "source": [
        "<a href=\"https://colab.research.google.com/github/bingsen-wang/Python-Examples/blob/main/PrimaryToQuinaryColors_RGB.ipynb\" target=\"_parent\"><img src=\"https://colab.research.google.com/assets/colab-badge.svg\" alt=\"Open In Colab\"/></a>"
      ]
    },
    {
      "cell_type": "markdown",
      "metadata": {
        "id": "jAMKoELNpsK-"
      },
      "source": [
        "<center><h1><b>Primary and Secondary Colors RGB\n",
        "</h1></b>\n",
        "\n",
        "Dr. Bingsen Wang\n",
        "\n",
        "1/6/2024\n",
        "</center>"
      ]
    },
    {
      "cell_type": "markdown",
      "metadata": {
        "id": "Hv0YxDrWU4h8"
      },
      "source": [
        "#Python Code\n",
        "The Python code illustrates the principle of additive colors."
      ]
    },
    {
      "cell_type": "code",
      "execution_count": null,
      "metadata": {
        "id": "XeGsHYTt8IXU",
        "colab": {
          "base_uri": "https://localhost:8080/",
          "height": 1000
        },
        "outputId": "4781abf0-760f-4284-e1d6-c9c0052e0969"
      },
      "outputs": [
        {
          "output_type": "stream",
          "name": "stdout",
          "text": [
            "0\n",
            "0\n",
            "1\n",
            "2\n",
            "3\n",
            "4\n",
            "5\n",
            "6\n",
            "7\n",
            "8\n",
            "0\n"
          ]
        },
        {
          "output_type": "display_data",
          "data": {
            "text/plain": [
              "<Figure size 900x900 with 1 Axes>"
            ],
            "image/png": "[encoded data removed]"
          },
          "metadata": {}
        }
      ],
      "source": [
        "from os import linesep\n",
        "import shapely.geometry as sg\n",
        "import numpy as np\n",
        "from numpy import linspace,cos,sin,pi,deg2rad\n",
        "import matplotlib.pyplot as plt\n",
        "import matplotlib.patches as mp\n",
        "from matplotlib import animation,rc,colors\n",
        "rc('animation', html='jshtml')\n",
        "plt.rcParams.update({\"font.family\" : \"sans serif\",\"mathtext.fontset\" : \"cm\"})\n",
        "\n",
        "def rgb2hex(rgb):\n",
        "  return \"#%02X%02X%02X\" % (round(rgb[0]*255),round(rgb[1]*255),round(rgb[2]*255))\n",
        "\n",
        "#colored patch between arcs of radi ri and ro spanning angle theta\n",
        "def colorPatches(ax, theta, ro, width, theta_r,colors,txtloc):\n",
        "  for i in range(len(colors)):\n",
        "    arcsect = mp.Wedge((0,0),ro,theta1 = -.5*theta+theta_r+i/len(colors)*360,\n",
        "                       theta2 = .5*theta+theta_r+i/len(colors)*360,\n",
        "                       width=width,fc=colors[i],ec='none')#inner arc\n",
        "    ax.add_patch(arcsect)\n",
        "    if txtloc=='inner':\n",
        "      ax.text((ro-width)*cos(deg2rad(theta_r+i/len(colors)*360)),\n",
        "              (ro-width)*sin(deg2rad(theta_r+i/len(colors)*360)),\n",
        "              rgb2hex(colors[i]),ha='right',va='center',size=14, color=colors[i],\n",
        "              rotation=theta_r+i/len(colors)*360,rotation_mode='anchor')\n",
        "              # color='w',rotation=theta_r+i/len(colors)*360,rotation_mode='anchor')\n",
        "    if txtloc=='outer':\n",
        "      ax.text(ro*cos(deg2rad(theta_r+i/len(colors)*360)),\n",
        "              ro*sin(deg2rad(theta_r+i/len(colors)*360)),\n",
        "              rgb2hex(colors[i]),ha='left',va='center',size=14,color=colors[i],\n",
        "              rotation=theta_r+i/len(colors)*360,rotation_mode='anchor')\n",
        "              # color='w',rotation=theta_r+i/len(colors)*360,rotation_mode='anchor')\n",
        "  return\n",
        "\n",
        "\n",
        "#parameters\n",
        "Nf = 100\n",
        "t=linspace(0,1,Nf)\n",
        "w = 0.3 #wedge thickness\n",
        "ro = .9 #\n",
        "\n",
        "c1 = np.identity(3)#primary\n",
        "c2,c12 = [],[] #secondary, primary+secondary\n",
        "for i in range(len(c1)):\n",
        "  c2.append(c1[i]+c1[(i+1)%len(c1)])\n",
        "  c12.append(c1[i])\n",
        "  c12.append(c2[i])\n",
        "c3,c13 = [],[] #tertiary, primary to tertiary\n",
        "for i in range(len(c12)):\n",
        "  c3.append((c12[i]+c12[(i+1)%len(c12)])/max(c12[i]+c12[(i+1)%len(c12)]))\n",
        "  c13.append(c12[i])\n",
        "  c13.append(c3[i])\n",
        "c4,c14 = [],[] #quaternary, primary to quaternary\n",
        "for i in range(len(c13)):\n",
        "  c4.append((c13[i]+c13[(i+1)%len(c13)])/max(c13[i]+c13[(i+1)%len(c13)]))\n",
        "  c14.append(c13[i])\n",
        "  c14.append(c4[i])\n",
        "c5,c15 = [],[] #quinary, primary to quinary\n",
        "for i in range(len(c14)):\n",
        "  c5.append((c14[i]+c14[(i+1)%len(c14)])/max(c14[i]+c14[(i+1)%len(c14)]))\n",
        "  c15.append(c14[i])\n",
        "  c15.append(c5[i])\n",
        "\n",
        "c12345 = [c1,c12,c13,c14,c15]\n",
        "c2c3c4c5 = [c2,c3,c4,c5]\n",
        "#set up figures\n",
        "fig = plt.figure(figsize=(9,9))\n",
        "ax_frame = [[0, 0, 1, 1], [-1.5,1.5], [-1.5,1.5]]# [pos-boundary, xlim, ylim]\n",
        "xn,xm,yn,ym = ax_frame[1]+ax_frame[2]\n",
        "ax=fig.add_axes(ax_frame[0],xlim=ax_frame[1], ylim=ax_frame[2],fc='k') #no face color\n",
        "ax.get_xaxis().set_visible(False)\n",
        "ax.get_yaxis().set_visible(False)\n",
        "[ax.spines[spine].set_visible(False) for spine in ['top','bottom','left','right']]\n",
        "\n",
        "# animation function. This is called sequentially\n",
        "def animate(i):\n",
        "  ii = i%Nf\n",
        "  k = i//Nf\n",
        "  if ii==0:\n",
        "    print(k) #for monitoring\n",
        "  ax.clear()\n",
        "  ax.set_xlim(xn,xm)\n",
        "  ax.set_ylim(yn,ym)\n",
        "  if k==0: #primary colors\n",
        "    if ii<Nf-1:\n",
        "      colorPatches(ax, 120, ro, ro+(w-ro)*t[ii], 0,c1,'none')\n",
        "    else:\n",
        "      colorPatches(ax, 120, ro, ro+(w-ro)*t[ii], 0,c1,'inner')\n",
        "  if k>0 and k<8: #additional colors\n",
        "    if k%2==1:\n",
        "      colorPatches(ax, (120-60*t[ii])/2**(.5*k-.5), ro, w, 0,c12345[int(.5*k-.5)],'inner')\n",
        "      colorPatches(ax, (120-60*t[ii])/2**(.5*k-.5), ro+w, w, 60/2**(.5*k-.5),c2c3c4c5[int(.5*k-.5)],'outer')\n",
        "    if k%2==0: #colors merged\n",
        "      colorPatches(ax, 120/2**(.5*k), ro, w, 0,c12345[int(.5*k-1)],'inner')\n",
        "      colorPatches(ax, 120/2**(.5*k), ro+w*(1-t[ii]), w, 120/2**(.5*k),c2c3c4c5[int(.5*k-1)],'inner')\n",
        "  if k==8: #last one increase width and merge\n",
        "    colorPatches(ax, 120/2**(.5*k), ro+w*t[ii], w*(1+t[ii]), 0,c12345[int(.5*k-1)],'outer')\n",
        "    colorPatches(ax, 120/2**(.5*k), ro+w, w*(1+t[ii]), 120/2**(.5*k),c2c3c4c5[int(.5*k-1)],'outer')\n",
        "  return\n",
        "\n",
        "anim = animation.FuncAnimation(fig, animate, frames=Nf*9, interval=20)\n",
        "# anim #uncomment to generate animation in the output area\n",
        "anim.save(\"PrimaryToQuinaryRGB.mp4\", fps=40, dpi = 120) #uncomment to save\n",
        "\n"
      ]
    }
  ]
}